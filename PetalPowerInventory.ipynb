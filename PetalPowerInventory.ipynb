{
 "cells": [
  {
   "cell_type": "code",
   "execution_count": 1,
   "metadata": {},
   "outputs": [
    {
     "name": "stdout",
     "output_type": "stream",
     "text": [
      "   Unnamed: 0       location  product_type         product_description  \\\n",
      "0           0  Staten Island         seeds                       daisy   \n",
      "1           1  Staten Island         seeds                   call lily   \n",
      "2           2  Staten Island  garden tools                      tomato   \n",
      "3           3  Staten Island  garden tools                       trake   \n",
      "4           4  Staten Island  garden tools                 wheelbarrow   \n",
      "5           5  Staten Island  garden tools                       spade   \n",
      "6           6  Staten Island  pest_control               insect killer   \n",
      "7           7  Staten Island  pest_control                 weed killer   \n",
      "8           8  Staten Island       planter  20 inch terracotta planter   \n",
      "9           9  Staten Island       planter      8 inch plastic planter   \n",
      "\n",
      "   quantity  price  \n",
      "0         4   6.99  \n",
      "1        46  19.99  \n",
      "2        85  13.99  \n",
      "3         4  13.99  \n",
      "4         0  89.99  \n",
      "5        93  19.99  \n",
      "6        74  12.99  \n",
      "7         8  23.99  \n",
      "8         0  17.99  \n",
      "9        53   3.99  \n",
      "   Unnamed: 0       location  product_type         product_description  \\\n",
      "0           0  Staten Island         seeds                       daisy   \n",
      "1           1  Staten Island         seeds                   call lily   \n",
      "2           2  Staten Island  garden tools                      tomato   \n",
      "3           3  Staten Island  garden tools                       trake   \n",
      "4           4  Staten Island  garden tools                 wheelbarrow   \n",
      "5           5  Staten Island  garden tools                       spade   \n",
      "6           6  Staten Island  pest_control               insect killer   \n",
      "7           7  Staten Island  pest_control                 weed killer   \n",
      "8           8  Staten Island       planter  20 inch terracotta planter   \n",
      "9           9  Staten Island       planter      8 inch plastic planter   \n",
      "\n",
      "   quantity  price  \n",
      "0         4   6.99  \n",
      "1        46  19.99  \n",
      "2        85  13.99  \n",
      "3         4  13.99  \n",
      "4         0  89.99  \n",
      "5        93  19.99  \n",
      "6        74  12.99  \n",
      "7         8  23.99  \n",
      "8         0  17.99  \n",
      "9        53   3.99  \n"
     ]
    },
    {
     "ename": "KeyError",
     "evalue": "'price'",
     "output_type": "error",
     "traceback": [
      "\u001b[0;31m---------------------------------------------------------------------------\u001b[0m",
      "\u001b[0;31mKeyError\u001b[0m                                  Traceback (most recent call last)",
      "Cell \u001b[0;32mIn[1], line 17\u001b[0m\n\u001b[1;32m     15\u001b[0m inventory \u001b[38;5;241m=\u001b[39m {}\n\u001b[1;32m     16\u001b[0m inventory[\u001b[38;5;124m'\u001b[39m\u001b[38;5;124min_stock\u001b[39m\u001b[38;5;124m'\u001b[39m] \u001b[38;5;241m=\u001b[39m inventory\u001b[38;5;241m.\u001b[39mget(\u001b[38;5;124m'\u001b[39m\u001b[38;5;124mquantity\u001b[39m\u001b[38;5;124m'\u001b[39m, \u001b[38;5;241m0\u001b[39m) \u001b[38;5;241m>\u001b[39m \u001b[38;5;241m0\u001b[39m\n\u001b[0;32m---> 17\u001b[0m inventory[\u001b[38;5;124m'\u001b[39m\u001b[38;5;124mtotal_value\u001b[39m\u001b[38;5;124m'\u001b[39m] \u001b[38;5;241m=\u001b[39m inventory[\u001b[38;5;124m'\u001b[39m\u001b[38;5;124mprice\u001b[39m\u001b[38;5;124m'\u001b[39m] \u001b[38;5;241m*\u001b[39m inventory[\u001b[38;5;124m'\u001b[39m\u001b[38;5;124mquantity\u001b[39m\u001b[38;5;124m'\u001b[39m]\n",
      "\u001b[0;31mKeyError\u001b[0m: 'price'"
     ]
    }
   ],
   "source": [
    "import pandas as pd\n",
    "\n",
    "data = pd.read_csv('inventory.csv')  # Example: create an empty DataFrame\n",
    "print(data.head(10))\n",
    "staten_island = data.head(10)\n",
    "\n",
    "\n",
    "data = pd.read_csv('inventory.csv')  # Example: create an empty DataFrame\n",
    "print(data.head(10))\n",
    "staten_island = data.head(10)\n",
    "product_request = staten_island['product_description']\n",
    "  # or any appropriate value\n",
    "seed_request = data[(data['location'] == 'Brooklyn') & (data['product_type'] == 'seeds')]\n",
    "\n",
    "inventory = {}\n",
    "inventory['in_stock'] = inventory.get('quantity', 0) > 0\n",
    "inventory['total_value'] = inventory['price'] * inventory['quantity']\n",
    "\n",
    "\n"
   ]
  }
 ],
 "metadata": {
  "kernelspec": {
   "display_name": "Python 3",
   "language": "python",
   "name": "python3"
  },
  "language_info": {
   "codemirror_mode": {
    "name": "ipython",
    "version": 3
   },
   "file_extension": ".py",
   "mimetype": "text/x-python",
   "name": "python",
   "nbconvert_exporter": "python",
   "pygments_lexer": "ipython3",
   "version": "3.12.4"
  }
 },
 "nbformat": 4,
 "nbformat_minor": 2
}
